{
  "nbformat": 4,
  "nbformat_minor": 0,
  "metadata": {
    "colab": {
      "provenance": [],
      "authorship_tag": "ABX9TyMe+yPKaCbqY4pOc48bx1Kk",
      "include_colab_link": true
    },
    "kernelspec": {
      "name": "python3",
      "display_name": "Python 3"
    },
    "language_info": {
      "name": "python"
    }
  },
  "cells": [
    {
      "cell_type": "markdown",
      "metadata": {
        "id": "view-in-github",
        "colab_type": "text"
      },
      "source": [
        "<a href=\"https://colab.research.google.com/github/Tanvir284/CSE-122-Fall-2022-49-10-/blob/main/Untitled12.ipynb\" target=\"_parent\"><img src=\"https://colab.research.google.com/assets/colab-badge.svg\" alt=\"Open In Colab\"/></a>"
      ]
    },
    {
      "cell_type": "code",
      "execution_count": 8,
      "metadata": {
        "colab": {
          "base_uri": "https://localhost:8080/"
        },
        "id": "A2zRyE1ZWNcP",
        "outputId": "5e0dbc2a-7506-487d-808e-0b819c5b2eba"
      },
      "outputs": [
        {
          "output_type": "stream",
          "name": "stdout",
          "text": [
            "Requirement already satisfied: yfinance in /usr/local/lib/python3.11/dist-packages (0.2.65)\n",
            "Requirement already satisfied: pandas in /usr/local/lib/python3.11/dist-packages (2.2.2)\n",
            "Requirement already satisfied: requests in /usr/local/lib/python3.11/dist-packages (2.32.3)\n",
            "Requirement already satisfied: beautifulsoup4 in /usr/local/lib/python3.11/dist-packages (4.13.4)\n",
            "Requirement already satisfied: plotly in /usr/local/lib/python3.11/dist-packages (5.24.1)\n",
            "Requirement already satisfied: numpy>=1.16.5 in /usr/local/lib/python3.11/dist-packages (from yfinance) (2.0.2)\n",
            "Requirement already satisfied: multitasking>=0.0.7 in /usr/local/lib/python3.11/dist-packages (from yfinance) (0.0.11)\n",
            "Requirement already satisfied: platformdirs>=2.0.0 in /usr/local/lib/python3.11/dist-packages (from yfinance) (4.3.8)\n",
            "Requirement already satisfied: pytz>=2022.5 in /usr/local/lib/python3.11/dist-packages (from yfinance) (2025.2)\n",
            "Requirement already satisfied: frozendict>=2.3.4 in /usr/local/lib/python3.11/dist-packages (from yfinance) (2.4.6)\n",
            "Requirement already satisfied: peewee>=3.16.2 in /usr/local/lib/python3.11/dist-packages (from yfinance) (3.18.2)\n",
            "Requirement already satisfied: curl_cffi>=0.7 in /usr/local/lib/python3.11/dist-packages (from yfinance) (0.11.4)\n",
            "Requirement already satisfied: protobuf>=3.19.0 in /usr/local/lib/python3.11/dist-packages (from yfinance) (5.29.5)\n",
            "Requirement already satisfied: websockets>=13.0 in /usr/local/lib/python3.11/dist-packages (from yfinance) (15.0.1)\n",
            "Requirement already satisfied: python-dateutil>=2.8.2 in /usr/local/lib/python3.11/dist-packages (from pandas) (2.9.0.post0)\n",
            "Requirement already satisfied: tzdata>=2022.7 in /usr/local/lib/python3.11/dist-packages (from pandas) (2025.2)\n",
            "Requirement already satisfied: charset-normalizer<4,>=2 in /usr/local/lib/python3.11/dist-packages (from requests) (3.4.2)\n",
            "Requirement already satisfied: idna<4,>=2.5 in /usr/local/lib/python3.11/dist-packages (from requests) (3.10)\n",
            "Requirement already satisfied: urllib3<3,>=1.21.1 in /usr/local/lib/python3.11/dist-packages (from requests) (2.4.0)\n",
            "Requirement already satisfied: certifi>=2017.4.17 in /usr/local/lib/python3.11/dist-packages (from requests) (2025.7.9)\n",
            "Requirement already satisfied: soupsieve>1.2 in /usr/local/lib/python3.11/dist-packages (from beautifulsoup4) (2.7)\n",
            "Requirement already satisfied: typing-extensions>=4.0.0 in /usr/local/lib/python3.11/dist-packages (from beautifulsoup4) (4.14.1)\n",
            "Requirement already satisfied: tenacity>=6.2.0 in /usr/local/lib/python3.11/dist-packages (from plotly) (8.5.0)\n",
            "Requirement already satisfied: packaging in /usr/local/lib/python3.11/dist-packages (from plotly) (24.2)\n",
            "Requirement already satisfied: cffi>=1.12.0 in /usr/local/lib/python3.11/dist-packages (from curl_cffi>=0.7->yfinance) (1.17.1)\n",
            "Requirement already satisfied: six>=1.5 in /usr/local/lib/python3.11/dist-packages (from python-dateutil>=2.8.2->pandas) (1.17.0)\n",
            "Requirement already satisfied: pycparser in /usr/local/lib/python3.11/dist-packages (from cffi>=1.12.0->curl_cffi>=0.7->yfinance) (2.22)\n",
            "--- Extracting Tesla (TSLA) Stock Data ---\n",
            "Tesla Stock Data (first 5 rows):\n",
            "                       Date      Open      High       Low     Close  \\\n",
            "0 2010-06-29 00:00:00-04:00  1.266667  1.666667  1.169333  1.592667   \n",
            "1 2010-06-30 00:00:00-04:00  1.719333  2.028000  1.553333  1.588667   \n",
            "2 2010-07-01 00:00:00-04:00  1.666667  1.728000  1.351333  1.464000   \n",
            "3 2010-07-02 00:00:00-04:00  1.533333  1.540000  1.247333  1.280000   \n",
            "4 2010-07-06 00:00:00-04:00  1.333333  1.333333  1.055333  1.074000   \n",
            "\n",
            "      Volume  Dividends  Stock Splits  \n",
            "0  281494500        0.0           0.0  \n",
            "1  257806500        0.0           0.0  \n",
            "2  123282000        0.0           0.0  \n",
            "3   77097000        0.0           0.0  \n",
            "4  103003500        0.0           0.0  \n",
            "\n",
            "==================================================\n",
            "\n",
            "--- Extracting Tesla (TSLA) Revenue Data ---\n",
            "Could not find the Tesla Quarterly Revenue table.\n",
            "--- Extracting GameStop (GME) Stock Data ---\n",
            "GameStop Stock Data (first 5 rows):\n",
            "                       Date      Open      High       Low     Close    Volume  \\\n",
            "0 2002-02-13 00:00:00-05:00  1.620128  1.693350  1.603296  1.691666  76216000   \n",
            "1 2002-02-14 00:00:00-05:00  1.712707  1.716073  1.670626  1.683250  11021600   \n",
            "2 2002-02-15 00:00:00-05:00  1.683251  1.687459  1.658002  1.674834   8389600   \n",
            "3 2002-02-19 00:00:00-05:00  1.666418  1.666418  1.578047  1.607504   7410400   \n",
            "4 2002-02-20 00:00:00-05:00  1.615920  1.662210  1.603296  1.662210   6892800   \n",
            "\n",
            "   Dividends  Stock Splits  \n",
            "0        0.0           0.0  \n",
            "1        0.0           0.0  \n",
            "2        0.0           0.0  \n",
            "3        0.0           0.0  \n",
            "4        0.0           0.0  \n",
            "\n",
            "==================================================\n",
            "\n",
            "--- Extracting GameStop (GME) Revenue Data ---\n",
            "Could not find the GameStop Quarterly Revenue table.\n"
          ]
        }
      ],
      "source": [
        "# ==============================================================================\n",
        "# Step 1: Install and Import Necessary Libraries\n",
        "# ==============================================================================\n",
        "# This command installs all the required Python packages.\n",
        "!pip install yfinance pandas requests beautifulsoup4 plotly\n",
        "\n",
        "# Importing the libraries into our script.\n",
        "import yfinance as yf\n",
        "import pandas as pd\n",
        "import requests\n",
        "from bs4 import BeautifulSoup\n",
        "import plotly.graph_objects as go\n",
        "from plotly.subplots import make_subplots\n",
        "\n",
        "# ==============================================================================\n",
        "# Question 1: Extracting Tesla Stock Data Using yfinance\n",
        "# ==============================================================================\n",
        "print(\"--- Extracting Tesla (TSLA) Stock Data ---\")\n",
        "# Create a ticker object for Tesla (TSLA).\n",
        "tesla = yf.Ticker(\"TSLA\")\n",
        "\n",
        "# Get historical market data for the maximum possible period.\n",
        "tesla_data = tesla.history(period=\"max\")\n",
        "\n",
        "# Reset the index to make 'Date' a proper column.\n",
        "tesla_data.reset_index(inplace=True)\n",
        "\n",
        "# Display the first five rows of the dataframe to verify.\n",
        "print(\"Tesla Stock Data (first 5 rows):\")\n",
        "print(tesla_data.head())\n",
        "print(\"\\n\" + \"=\"*50 + \"\\n\")\n",
        "\n",
        "\n",
        "# ==============================================================================\n",
        "# Question 2: Extracting Tesla Revenue Data Using Web Scraping\n",
        "# ==============================================================================\n",
        "print(\"--- Extracting Tesla (TSLA) Revenue Data ---\")\n",
        "# The URL for Tesla's revenue data on Macrotrends.\n",
        "url_tesla = \"https://www.macrotrends.net/stocks/charts/TSLA/tesla/revenue\"\n",
        "\n",
        "# Send a request to the URL and get the HTML content.\n",
        "html_data_tesla = requests.get(url_tesla).text\n",
        "\n",
        "# Parse the HTML content using BeautifulSoup.\n",
        "soup_tesla = BeautifulSoup(html_data_tesla, \"html.parser\")\n",
        "\n",
        "# Find all tables on the page.\n",
        "tables_tesla = soup_tesla.find_all('table', class_='historical_data_table')\n",
        "tesla_revenue = pd.DataFrame() # Initialize an empty dataframe to be safe.\n",
        "\n",
        "# Loop through tables to find the one with quarterly revenue data.\n",
        "for table in tables_tesla:\n",
        "    if \"Tesla Quarterly Revenue\" in table.find('th').text:\n",
        "        tesla_revenue = pd.read_html(str(table))[0]\n",
        "        break\n",
        "\n",
        "# Check if the DataFrame is still empty after the loop\n",
        "if tesla_revenue.empty:\n",
        "    print(\"Could not find the Tesla Quarterly Revenue table.\")\n",
        "else:\n",
        "    # Clean and format the revenue data.\n",
        "    tesla_revenue.columns = [\"Date\", \"Revenue\"]\n",
        "    tesla_revenue[\"Revenue\"] = tesla_revenue['Revenue'].str.replace('$', '').str.replace(',', '')\n",
        "    tesla_revenue.dropna(inplace=True)\n",
        "    tesla_revenue = tesla_revenue[tesla_revenue['Revenue'] != \"\"]\n",
        "\n",
        "    # Display the last five rows of the cleaned data.\n",
        "    print(\"Tesla Revenue Data (last 5 rows):\")\n",
        "    print(tesla_revenue.tail())\n",
        "    print(\"\\n\" + \"=\"*50 + \"\\n\")\n",
        "\n",
        "\n",
        "# ==============================================================================\n",
        "# Question 3: Extracting GameStop Stock Data Using yfinance\n",
        "# ==============================================================================\n",
        "print(\"--- Extracting GameStop (GME) Stock Data ---\")\n",
        "# Create a ticker object for GameStop (GME).\n",
        "gme = yf.Ticker(\"GME\")\n",
        "\n",
        "# Get historical market data for GameStop.\n",
        "gme_data = gme.history(period=\"max\")\n",
        "\n",
        "# Reset the index.\n",
        "gme_data.reset_index(inplace=True)\n",
        "\n",
        "# Display the first five rows.\n",
        "print(\"GameStop Stock Data (first 5 rows):\")\n",
        "print(gme_data.head())\n",
        "print(\"\\n\" + \"=\"*50 + \"\\n\")\n",
        "\n",
        "\n",
        "# ==============================================================================\n",
        "# Question 4: Extracting GameStop Revenue Data Using Web Scraping\n",
        "# ==============================================================================\n",
        "print(\"--- Extracting GameStop (GME) Revenue Data ---\")\n",
        "# The URL for GameStop's revenue data.\n",
        "url_gme = \"https://www.macrotrends.net/stocks/charts/GME/gamestop/revenue\"\n",
        "\n",
        "# Get and parse the HTML from the URL.\n",
        "html_data_gme = requests.get(url_gme).text\n",
        "soup_gme = BeautifulSoup(html_data_gme, \"html.parser\")\n",
        "\n",
        "# Find the correct table containing the revenue data.\n",
        "tables_gme = soup_gme.find_all('table', class_='historical_data_table')\n",
        "gme_revenue = pd.DataFrame()\n",
        "\n",
        "for table in tables_gme:\n",
        "    if \"GameStop Quarterly Revenue\" in table.find('th').text:\n",
        "        gme_revenue = pd.read_html(str(table))[0]\n",
        "        break\n",
        "\n",
        "# Check if the DataFrame is still empty after the loop\n",
        "if gme_revenue.empty:\n",
        "    print(\"Could not find the GameStop Quarterly Revenue table.\")\n",
        "else:\n",
        "    # Clean and format the GameStop revenue data.\n",
        "    gme_revenue.columns = [\"Date\", \"Revenue\"]\n",
        "    gme_revenue[\"Revenue\"] = gme_revenue['Revenue'].str.replace('$', '').str.replace(',', '')\n",
        "    gme_revenue.dropna(inplace=True)\n",
        "    gme_revenue = gme_revenue[gme_revenue['Revenue'] != \"\"]\n",
        "\n",
        "    # Display the last five rows of the cleaned data.\n",
        "    print(\"GameStop Revenue Data (last 5 rows):\")\n",
        "    print(gme_revenue.tail())\n",
        "    print(\"\\n\" + \"=\"*50 + \"\\n\")\n",
        "\n",
        "\n",
        "# ==============================================================================\n",
        "# Questions 5 & 6: Plotting Dashboards\n",
        "# ==============================================================================\n",
        "# Define a function to create the plots to avoid repeating code.\n",
        "def make_graph(stock_data, revenue_data, stock_name):\n",
        "    \"\"\"\n",
        "    Creates and displays an interactive dual-axis plot of a stock's\n",
        "    closing price and its quarterly revenue.\n",
        "    \"\"\"\n",
        "    # Create a figure with a secondary y-axis.\n",
        "    fig = make_subplots(rows=1, cols=1, shared_xaxes=True,\n",
        "                        specs=[[{\"secondary_y\": True}]])\n",
        "\n",
        "    # Add the stock price trace to the primary y-axis.\n",
        "    fig.add_trace(go.Scatter(x=stock_data['Date'], y=stock_data['Close'],\n",
        "                             name='Stock Price'), secondary_y=False)\n",
        "\n",
        "    # Add the revenue trace to the secondary y-axis.\n",
        "    fig.add_trace(go.Scatter(x=revenue_data['Date'], y=revenue_data['Revenue'].astype(float),\n",
        "                             name='Revenue'), secondary_y=True)\n",
        "\n",
        "    # Add figure title and axis labels.\n",
        "    fig.update_layout(title_text=f\"{stock_name} Stock Price vs. Revenue\",\n",
        "                      xaxis_title=\"Date\")\n",
        "    fig.update_yaxes(title_text=\"Stock Price ($)\", secondary_y=False)"
      ]
    },
    {
      "cell_type": "markdown",
      "metadata": {
        "id": "ddf10f7f"
      },
      "source": [
        "# Task\n",
        "Explain the error in the selected code, which is failing to plot Tesla and GameStop revenue data. If possible, fix the error by finding alternative data sources for historical quarterly revenue data for Tesla and GameStop, extracting and cleaning this data, and integrating it into the existing code to plot the stock price and revenue data for both companies. If fixing is not possible, diagnose the error."
      ]
    },
    {
      "cell_type": "markdown",
      "metadata": {
        "id": "085dc215"
      },
      "source": [
        "## Find alternative revenue data sources\n",
        "\n",
        "### Subtask:\n",
        "Search for alternative websites or APIs that provide historical quarterly revenue data for Tesla and GameStop.\n"
      ]
    },
    {
      "cell_type": "markdown",
      "metadata": {
        "id": "b81815ab"
      },
      "source": [
        "**Reasoning**:\n",
        "The previous attempt to scrape revenue data from Macrotrends failed. I need to find alternative data sources for Tesla and GameStop quarterly revenue data. I will use Google to search for financial data providers, APIs, or reliable web sources.\n",
        "\n"
      ]
    },
    {
      "cell_type": "code",
      "metadata": {
        "colab": {
          "base_uri": "https://localhost:8080/"
        },
        "id": "b3df1b67",
        "outputId": "d60cd08a-c6d6-4b8c-d854-25ff05972c58"
      },
      "source": [
        "# Perform Google searches for alternative data sources.\n",
        "print(\"Searching for alternative data sources for Tesla and GameStop revenue...\")\n",
        "\n",
        "# Search terms for Tesla\n",
        "tesla_search_terms = [\n",
        "    \"Tesla quarterly revenue data API\",\n",
        "    \"Tesla historical financial data\",\n",
        "    \"Tesla revenue data alternative source\"\n",
        "]\n",
        "\n",
        "# Search terms for GameStop\n",
        "gme_search_terms = [\n",
        "    \"GameStop quarterly revenue data API\",\n",
        "    \"GameStop historical financial data\",\n",
        "    \"GameStop revenue data alternative source\"\n",
        "]\n",
        "\n",
        "print(\"Potential search terms:\")\n",
        "print(\"Tesla:\", tesla_search_terms)\n",
        "print(\"GameStop:\", gme_search_terms)\n",
        "\n",
        "# Note: This step is conceptual as I cannot directly execute web searches.\n",
        "# I will assume successful searches lead to potential sources like Alpha Vantage, Financial Modeling Prep, or similar financial data providers.\n",
        "# I will then need to investigate these sources for quarterly revenue data availability and accessibility."
      ],
      "execution_count": 9,
      "outputs": [
        {
          "output_type": "stream",
          "name": "stdout",
          "text": [
            "Searching for alternative data sources for Tesla and GameStop revenue...\n",
            "Potential search terms:\n",
            "Tesla: ['Tesla quarterly revenue data API', 'Tesla historical financial data', 'Tesla revenue data alternative source']\n",
            "GameStop: ['GameStop quarterly revenue data API', 'GameStop historical financial data', 'GameStop revenue data alternative source']\n"
          ]
        }
      ]
    },
    {
      "cell_type": "markdown",
      "metadata": {
        "id": "76f35431"
      },
      "source": [
        "**Reasoning**:\n",
        "Based on the conceptual search, I will identify potential alternative data sources that are commonly used for financial data and check if they provide historical quarterly revenue data for publicly traded companies like Tesla and GameStop. Common sources include financial data APIs like Alpha Vantage, Financial Modeling Prep, or potentially scraping from reputable financial websites if API access is not feasible or free. I will then note down the identified sources.\n",
        "\n"
      ]
    },
    {
      "cell_type": "code",
      "metadata": {
        "colab": {
          "base_uri": "https://localhost:8080/"
        },
        "id": "70eca309",
        "outputId": "b3b9cf11-cedd-4924-eece-a77e969a0054"
      },
      "source": [
        "# Identifying potential alternative data sources based on common financial data providers.\n",
        "# I will assume that through the search, I have identified the following potential sources:\n",
        "# 1. Alpha Vantage API: Known for providing financial data, including income statements.\n",
        "# 2. Financial Modeling Prep API: Another popular financial data API with extensive data.\n",
        "# 3. Potentially scraping from financial websites like Yahoo Finance, Google Finance, or others, though APIs are preferred for structured data.\n",
        "\n",
        "# For the purpose of this task, I will focus on identifying API sources as they are generally easier to work with programmatically.\n",
        "\n",
        "# Potential API Source 1: Alpha Vantage\n",
        "alpha_vantage_financials_endpoint = \"https://www.alphavantage.co/query?function=INCOME_STATEMENT&symbol={symbol}&apikey=YOUR_API_KEY\"\n",
        "print(f\"Potential API Source 1 (Alpha Vantage Financials Endpoint): {alpha_vantage_financials_endpoint}\")\n",
        "\n",
        "# Potential API Source 2: Financial Modeling Prep\n",
        "fmp_financials_endpoint = \"https://financialmodelingprep.com/api/v3/income-statement/{symbol}?period=quarter&apikey=YOUR_API_KEY\"\n",
        "print(f\"Potential API Source 2 (Financial Modeling Prep Financials Endpoint): {fmp_financials_endpoint}\")\n",
        "\n",
        "# Note: Both of these require API keys, which may require registration and could have usage limits.\n",
        "# I will proceed with the assumption that one of these sources will be used in subsequent steps to extract the data."
      ],
      "execution_count": 13,
      "outputs": [
        {
          "output_type": "stream",
          "name": "stdout",
          "text": [
            "Potential API Source 1 (Alpha Vantage Financials Endpoint): https://www.alphavantage.co/query?function=INCOME_STATEMENT&symbol={symbol}&apikey=YOUR_API_KEY\n",
            "Potential API Source 2 (Financial Modeling Prep Financials Endpoint): https://financialmodelingprep.com/api/v3/income-statement/{symbol}?period=quarter&apikey=YOUR_API_KEY\n"
          ]
        }
      ]
    },
    {
      "cell_type": "markdown",
      "metadata": {
        "id": "c3f64cf1"
      },
      "source": [
        "## Extract revenue data\n",
        "\n",
        "### Subtask:\n",
        "Write code to extract the revenue data from the new source(s).\n"
      ]
    },
    {
      "cell_type": "markdown",
      "metadata": {
        "id": "22a1d933"
      },
      "source": [
        "**Reasoning**:\n",
        "Based on the previous step, Financial Modeling Prep is a suitable alternative data source for quarterly revenue data. I will use its API to retrieve the income statements for Tesla and GameStop, extract the quarterly revenue, and store it in DataFrames.\n",
        "\n"
      ]
    },
    {
      "cell_type": "code",
      "metadata": {
        "colab": {
          "base_uri": "https://localhost:8080/"
        },
        "id": "398396e5",
        "outputId": "9f378665-a142-4230-9ee4-0722f4ac04ba"
      },
      "source": [
        "# Assuming an API key for Financial Modeling Prep has been obtained and stored securely.\n",
        "# Replace 'YOUR_API_KEY' with your actual API key.\n",
        "fmp_api_key = \"YOUR_API_KEY\" # Placeholder for the API key.\n",
        "\n",
        "def get_quarterly_revenue(symbol, api_key):\n",
        "    \"\"\"\n",
        "    Retrieves quarterly revenue data for a given stock symbol using the Financial Modeling Prep API.\n",
        "\n",
        "    Args:\n",
        "        symbol (str): The stock ticker symbol (e.g., 'TSLA', 'GME').\n",
        "        api_key (str): Your Financial Modeling Prep API key.\n",
        "\n",
        "    Returns:\n",
        "        pandas.DataFrame: A DataFrame with 'Date' and 'Revenue' columns, or an empty DataFrame if data retrieval fails.\n",
        "    \"\"\"\n",
        "    url = f\"https://financialmodelingprep.com/api/v3/income-statement/{symbol}?period=quarter&apikey={api_key}\"\n",
        "    try:\n",
        "        response = requests.get(url)\n",
        "        response.raise_for_status() # Raise an exception for bad status codes\n",
        "        data = response.json()\n",
        "\n",
        "        if not data:\n",
        "            print(f\"No quarterly income statement data found for {symbol}.\")\n",
        "            return pd.DataFrame()\n",
        "\n",
        "        # Extract date and revenue for each quarter\n",
        "        revenue_list = []\n",
        "        for quarter_data in data:\n",
        "            date = quarter_data.get('date')\n",
        "            revenue = quarter_data.get('revenue')\n",
        "            if date and revenue is not None:\n",
        "                revenue_list.append({'Date': date, 'Revenue': revenue})\n",
        "\n",
        "        revenue_df = pd.DataFrame(revenue_list)\n",
        "        # Ensure 'Date' is datetime and sort\n",
        "        revenue_df['Date'] = pd.to_datetime(revenue_df['Date'])\n",
        "        revenue_df.sort_values(by='Date', inplace=True)\n",
        "        return revenue_df\n",
        "\n",
        "    except requests.exceptions.RequestException as e:\n",
        "        print(f\"Error fetching data for {symbol}: {e}\")\n",
        "        return pd.DataFrame()\n",
        "    except Exception as e:\n",
        "        print(f\"An unexpected error occurred for {symbol}: {e}\")\n",
        "        return pd.DataFrame()\n",
        "\n",
        "\n",
        "print(\"--- Extracting Tesla (TSLA) Revenue Data from Financial Modeling Prep ---\")\n",
        "tesla_revenue_fmp = get_quarterly_revenue(\"TSLA\", fmp_api_key)\n",
        "\n",
        "if not tesla_revenue_fmp.empty:\n",
        "    # Display the last five rows of the cleaned data.\n",
        "    print(\"Tesla Revenue Data (last 5 rows) from FMP:\")\n",
        "    display(tesla_revenue_fmp.tail())\n",
        "else:\n",
        "    print(\"Failed to extract Tesla revenue data from FMP.\")\n",
        "\n",
        "print(\"\\n\" + \"=\"*50 + \"\\n\")\n",
        "\n",
        "print(\"--- Extracting GameStop (GME) Revenue Data from Financial Modeling Prep ---\")\n",
        "gme_revenue_fmp = get_quarterly_revenue(\"GME\", fmp_api_key)\n",
        "\n",
        "if not gme_revenue_fmp.empty:\n",
        "    # Display the last five rows of the cleaned data.\n",
        "    print(\"GameStop Revenue Data (last 5 rows) from FMP:\")\n",
        "    display(gme_revenue_fmp.tail())\n",
        "else:\n",
        "     print(\"Failed to extract GameStop revenue data from FMP.\")\n",
        "\n",
        "print(\"\\n\" + \"=\"*50 + \"\\n\")\n",
        "\n",
        "# The extracted revenue dataframes are tesla_revenue_fmp and gme_revenue_fmp\n",
        "# These will be used in the next step to plot the data."
      ],
      "execution_count": 14,
      "outputs": [
        {
          "output_type": "stream",
          "name": "stdout",
          "text": [
            "--- Extracting Tesla (TSLA) Revenue Data from Financial Modeling Prep ---\n",
            "Error fetching data for TSLA: 401 Client Error: Unauthorized for url: https://financialmodelingprep.com/api/v3/income-statement/TSLA?period=quarter&apikey=YOUR_API_KEY\n",
            "Failed to extract Tesla revenue data from FMP.\n",
            "\n",
            "==================================================\n",
            "\n",
            "--- Extracting GameStop (GME) Revenue Data from Financial Modeling Prep ---\n",
            "Error fetching data for GME: 401 Client Error: Unauthorized for url: https://financialmodelingprep.com/api/v3/income-statement/GME?period=quarter&apikey=YOUR_API_KEY\n",
            "Failed to extract GameStop revenue data from FMP.\n",
            "\n",
            "==================================================\n",
            "\n"
          ]
        }
      ]
    },
    {
      "cell_type": "markdown",
      "metadata": {
        "id": "bc135705"
      },
      "source": [
        "## Extract revenue data\n",
        "\n",
        "### Subtask:\n",
        "Retry extracting revenue data from the Financial Modeling Prep API for Tesla and GameStop, ensuring a valid API key is used.\n"
      ]
    },
    {
      "cell_type": "markdown",
      "metadata": {
        "id": "3579d6e6"
      },
      "source": [
        "**Reasoning**:\n",
        "Re-attempt to extract revenue data using a valid API key and check if the dataframes are populated.\n",
        "\n"
      ]
    },
    {
      "cell_type": "code",
      "metadata": {
        "colab": {
          "base_uri": "https://localhost:8080/"
        },
        "id": "6e6080c8",
        "outputId": "9d69339d-1762-4fec-b0d6-f55fab4d2c71"
      },
      "source": [
        "# Replace the placeholder with your actual, valid Financial Modeling Prep API key.\n",
        "# Note: This requires you to have obtained a key from Financial Modeling Prep.\n",
        "# As an AI, I cannot obtain or use a real API key. I will use a placeholder again,\n",
        "# assuming in a real scenario, the user would replace this with their valid key.\n",
        "# Therefore, this attempt is expected to fail if the placeholder is not replaced.\n",
        "fmp_api_key = \"YOUR_API_KEY\" # PLEASE REPLACE WITH YOUR ACTUAL API KEY\n",
        "\n",
        "def get_quarterly_revenue(symbol, api_key):\n",
        "    \"\"\"\n",
        "    Retrieves quarterly revenue data for a given stock symbol using the Financial Modeling Prep API.\n",
        "\n",
        "    Args:\n",
        "        symbol (str): The stock ticker symbol (e.g., 'TSLA', 'GME').\n",
        "        api_key (str): Your Financial Modeling Prep API key.\n",
        "\n",
        "    Returns:\n",
        "        pandas.DataFrame: A DataFrame with 'Date' and 'Revenue' columns, or an empty DataFrame if data retrieval fails.\n",
        "    \"\"\"\n",
        "    url = f\"https://financialmodelingprep.com/api/v3/income-statement/{symbol}?period=quarter&apikey={api_key}\"\n",
        "    try:\n",
        "        response = requests.get(url)\n",
        "        response.raise_for_status() # Raise an exception for bad status codes\n",
        "        data = response.json()\n",
        "\n",
        "        if not data:\n",
        "            print(f\"No quarterly income statement data found for {symbol}.\")\n",
        "            return pd.DataFrame()\n",
        "\n",
        "        # Extract date and revenue for each quarter\n",
        "        revenue_list = []\n",
        "        for quarter_data in data:\n",
        "            date = quarter_data.get('date')\n",
        "            revenue = quarter_data.get('revenue')\n",
        "            if date and revenue is not None:\n",
        "                # Convert revenue to numeric, handling potential errors\n",
        "                try:\n",
        "                    revenue = float(revenue)\n",
        "                    revenue_list.append({'Date': date, 'Revenue': revenue})\n",
        "                except ValueError:\n",
        "                    print(f\"Could not convert revenue '{revenue}' to float for date '{date}'. Skipping.\")\n",
        "                    continue\n",
        "\n",
        "\n",
        "        revenue_df = pd.DataFrame(revenue_list)\n",
        "        if not revenue_df.empty:\n",
        "            # Ensure 'Date' is datetime and sort\n",
        "            revenue_df['Date'] = pd.to_datetime(revenue_df['Date'])\n",
        "            revenue_df.sort_values(by='Date', inplace=True)\n",
        "            # Check for duplicate dates and keep the last one if necessary\n",
        "            revenue_df.drop_duplicates(subset=['Date'], keep='last', inplace=True)\n",
        "            # Reset index after sorting and dropping duplicates\n",
        "            revenue_df.reset_index(drop=True, inplace=True)\n",
        "        return revenue_df\n",
        "\n",
        "    except requests.exceptions.RequestException as e:\n",
        "        print(f\"Error fetching data for {symbol}: {e}\")\n",
        "        return pd.DataFrame()\n",
        "    except Exception as e:\n",
        "        print(f\"An unexpected error occurred for {symbol}: {e}\")\n",
        "        return pd.DataFrame()\n",
        "\n",
        "\n",
        "print(\"--- Retrying Extracting Tesla (TSLA) Revenue Data from Financial Modeling Prep ---\")\n",
        "# Re-execute the call for Tesla\n",
        "tesla_revenue_fmp = get_quarterly_revenue(\"TSLA\", fmp_api_key)\n",
        "\n",
        "# Check and display Tesla data\n",
        "if not tesla_revenue_fmp.empty:\n",
        "    print(\"Tesla Revenue Data (last 5 rows) from FMP:\")\n",
        "    display(tesla_revenue_fmp.tail())\n",
        "else:\n",
        "    print(\"Failed to extract Tesla revenue data from FMP. Please check your API key and limits.\")\n",
        "\n",
        "print(\"\\n\" + \"=\"*50 + \"\\n\")\n",
        "\n",
        "print(\"--- Retrying Extracting GameStop (GME) Revenue Data from Financial Modeling Prep ---\")\n",
        "# Re-execute the call for GameStop\n",
        "gme_revenue_fmp = get_quarterly_revenue(\"GME\", fmp_api_key)\n",
        "\n",
        "# Check and display GameStop data\n",
        "if not gme_revenue_fmp.empty:\n",
        "    print(\"GameStop Revenue Data (last 5 rows) from FMP:\")\n",
        "    display(gme_revenue_fmp.tail())\n",
        "else:\n",
        "     print(\"Failed to extract GameStop revenue data from FMP. Please check your API key and limits.\")\n",
        "\n",
        "print(\"\\n\" + \"=\"*50 + \"\\n\")\n",
        "\n",
        "# The extracted revenue dataframes are tesla_revenue_fmp and gme_revenue_fmp\n",
        "# These will be used in the next step to plot the data if populated."
      ],
      "execution_count": 12,
      "outputs": [
        {
          "output_type": "stream",
          "name": "stdout",
          "text": [
            "--- Retrying Extracting Tesla (TSLA) Revenue Data from Financial Modeling Prep ---\n",
            "Error fetching data for TSLA: 401 Client Error: Unauthorized for url: https://financialmodelingprep.com/api/v3/income-statement/TSLA?period=quarter&apikey=YOUR_API_KEY\n",
            "Failed to extract Tesla revenue data from FMP. Please check your API key and limits.\n",
            "\n",
            "==================================================\n",
            "\n",
            "--- Retrying Extracting GameStop (GME) Revenue Data from Financial Modeling Prep ---\n",
            "Error fetching data for GME: 401 Client Error: Unauthorized for url: https://financialmodelingprep.com/api/v3/income-statement/GME?period=quarter&apikey=YOUR_API_KEY\n",
            "Failed to extract GameStop revenue data from FMP. Please check your API key and limits.\n",
            "\n",
            "==================================================\n",
            "\n"
          ]
        }
      ]
    },
    {
      "cell_type": "markdown",
      "metadata": {
        "id": "8ea41daa"
      },
      "source": [
        "## Summary:\n",
        "\n",
        "### Data Analysis Key Findings\n",
        "\n",
        "*   The initial attempt to obtain revenue data from Macrotrends was unsuccessful.\n",
        "*   Alternative data sources, specifically financial data APIs like Alpha Vantage and Financial Modeling Prep, were identified as potential sources for quarterly revenue data.\n",
        "*   Attempts to extract revenue data using the Financial Modeling Prep API failed due to the absence of a valid API key, resulting in a `401 Client Error: Unauthorized`.\n",
        "*   The data extraction step could not be completed because a valid API key was required and not provided.\n",
        "\n",
        "### Insights or Next Steps\n",
        "\n",
        "*   To proceed with plotting the revenue data, a valid API key for a financial data provider like Financial Modeling Prep or Alpha Vantage is required to successfully extract the necessary quarterly revenue information for Tesla and GameStop.\n",
        "*   Once the revenue data is successfully extracted, it needs to be integrated with the stock price data based on their respective dates for plotting and analysis.\n"
      ]
    }
  ]
}